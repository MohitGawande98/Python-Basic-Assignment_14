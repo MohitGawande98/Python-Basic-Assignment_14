{
 "cells": [
  {
   "cell_type": "markdown",
   "id": "91c1ceb8",
   "metadata": {},
   "source": [
    "1. What does RGBA stand for?"
   ]
  },
  {
   "cell_type": "raw",
   "id": "0d633a8c",
   "metadata": {},
   "source": [
    ">> RGBA stands for Red Green Blue Alpha."
   ]
  },
  {
   "cell_type": "markdown",
   "id": "a233d25b",
   "metadata": {},
   "source": [
    "2. From the Pillow module, how do you get the RGBA value of any images?"
   ]
  },
  {
   "cell_type": "raw",
   "id": "dc1fa522",
   "metadata": {},
   "source": [
    ">> import the image module from the pillow library from PIL import image.\n",
    ">> Open any image and get the RAGBAG values. img= Image.open(\"image.png\")"
   ]
  },
  {
   "cell_type": "markdown",
   "id": "b5e89679",
   "metadata": {},
   "source": [
    "3. What is a box tuple, and how does it work?"
   ]
  },
  {
   "cell_type": "raw",
   "id": "f4cbc04d",
   "metadata": {},
   "source": [
    "The box.tuple submodule provides read-only access for the tuple userdata type. it allows, for single tuple: selective retrieval of the field contents, retrieval of information about size, iteration over all the fields, and conversion to a lua table."
   ]
  },
  {
   "cell_type": "markdown",
   "id": "b6b1e903",
   "metadata": {},
   "source": [
    "4. What module contains Pillow’s shape-drawing code?"
   ]
  },
  {
   "cell_type": "raw",
   "id": "3cc95df5",
   "metadata": {},
   "source": [
    "ImageDraw module of the python image processing library pillow (PIL) provides shape-drawing code."
   ]
  },
  {
   "cell_type": "code",
   "execution_count": null,
   "id": "542acf2c",
   "metadata": {},
   "outputs": [],
   "source": []
  }
 ],
 "metadata": {
  "kernelspec": {
   "display_name": "Python 3",
   "language": "python",
   "name": "python3"
  },
  "language_info": {
   "codemirror_mode": {
    "name": "ipython",
    "version": 3
   },
   "file_extension": ".py",
   "mimetype": "text/x-python",
   "name": "python",
   "nbconvert_exporter": "python",
   "pygments_lexer": "ipython3",
   "version": "3.8.8"
  }
 },
 "nbformat": 4,
 "nbformat_minor": 5
}
